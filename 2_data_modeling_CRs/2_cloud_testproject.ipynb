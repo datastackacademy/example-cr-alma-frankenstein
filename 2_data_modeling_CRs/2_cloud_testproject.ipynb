{
 "cells": [
  {
   "cell_type": "markdown",
   "metadata": {},
   "source": [
    "- Using Python: create a BigQuery client\n",
    "- In BigQuery, in the project that the client connects to, make a new dataset called 'plants'\n",
    "- Back in the Python file (or notebook), use the client to list the datasets in the BigQuery project. Confirm that the new 'plants' dataset is there.\n",
    "- In a `.sql` file in the same repository as the Python code, write the SQL code that will create a table in the `plants` dataset called `flower_shop`. Give it a schema and insert values into it so it looks like this:\n",
    "\n",
    "```\n",
    "plant_id | species_name | variety_name    | zone | price\n",
    "1        | \"monstera\"   | \"swiss_cheese\"  | 5    | 20.25\n",
    "2        | \"cactus\"     | \"star\"          | 8    | 8.00\n",
    "3        | \"cactus\"     | \"bunny_ear\"     | 9    | 8.00\n",
    "4        | \"fern\"       | \"birds_nest\"    | 6    | 12.50\n",
    "5        | \"cactus\"     | \"saguaro\"       | 8    | 8.00\n",
    "6        | \"fern\"       | \"giant\"         | 7    | 11.00\n",
    "7        | \"monstera\"   | \"albo\"          | 5    | 14.75\n",
    "8        | \"cactus\"     | \"blue_columnar\" | 8    | 9.00\n",
    "9        | \"cactus\"     | \"barrel\"        | 9    | 14.50\n",
    "10       | \"bromeliad\"  | \"guzmania\"      | 9    | 15.50\n",
    "```\n",
    "\n",
    "\n",
    "- Run the code from the `.sql` file in BigQuery, so it adds the new table to the `plants` dataset.\n",
    "- Using Python, use `.list_tables()`, list the tables in the `plants` dataset, and confirm your new `flower_shop` table is there."
   ]
  },
  {
   "cell_type": "code",
   "execution_count": 1,
   "metadata": {},
   "outputs": [
    {
     "name": "stdout",
     "output_type": "stream",
     "text": [
      "Successfully created a BiqQuery client\n",
      "Project: frankenstein-dsa\n"
     ]
    }
   ],
   "source": [
    "from google.cloud import bigquery\n",
    "\n",
    "# create a client\n",
    "client = bigquery.Client()\n",
    "\n",
    "print(\"Successfully created a BiqQuery client\")\n",
    "print(f\"Project: {client.project}\")"
   ]
  },
  {
   "cell_type": "markdown",
   "metadata": {},
   "source": [
    "Create a 'plants' dataset here"
   ]
  },
  {
   "cell_type": "code",
   "execution_count": 2,
   "metadata": {},
   "outputs": [
    {
     "name": "stdout",
     "output_type": "stream",
     "text": [
      "Listing datasets:\n",
      "dataset id: `lego`, full_name: `frankenstein-dsa:lego`, labels (tags): {}\n",
      "dataset id: `mls_salaries`, full_name: `frankenstein-dsa:mls_salaries`, labels (tags): {}\n",
      "dataset id: `my_vinyls`, full_name: `frankenstein-dsa:my_vinyls`, labels (tags): {}\n",
      "dataset id: `plants`, full_name: `frankenstein-dsa:plants`, labels (tags): {}\n",
      "dataset id: `sf_bikeshare`, full_name: `frankenstein-dsa:sf_bikeshare`, labels (tags): {}\n",
      "dataset id: `streaming_catalog`, full_name: `frankenstein-dsa:streaming_catalog`, labels (tags): {}\n"
     ]
    }
   ],
   "source": [
    "# list datasets\n",
    "print(\"Listing datasets:\")\n",
    "\n",
    "for dataset in client.list_datasets():\n",
    "    dataset_id = dataset.dataset_id\n",
    "    print(f\"dataset id: `{dataset_id}`, full_name: `{dataset.full_dataset_id}`, labels (tags): {dataset.labels}\")"
   ]
  },
  {
   "cell_type": "markdown",
   "metadata": {},
   "source": [
    "Add SQL tables here\n",
    "- write in two separate files\n",
    "- run in BQ"
   ]
  },
  {
   "cell_type": "code",
   "execution_count": 5,
   "metadata": {},
   "outputs": [
    {
     "name": "stdout",
     "output_type": "stream",
     "text": [
      "table name: `flower_shop` in project: frankenstein-dsa\n",
      "table name: `regions` in project: frankenstein-dsa\n"
     ]
    }
   ],
   "source": [
    "# first get the dataset reference object\n",
    "dataset_ref = client.get_dataset(\"plants\")\n",
    "\n",
    "# list table\n",
    "tables = client.list_tables(dataset_ref)\n",
    "for table in tables:\n",
    "    print(f\"table name: `{table.table_id}` in project: {table.project}\")\n",
    "    "
   ]
  }
 ],
 "metadata": {
  "kernelspec": {
   "display_name": "Python 3.7.15 ('venv': venv)",
   "language": "python",
   "name": "python3"
  },
  "language_info": {
   "codemirror_mode": {
    "name": "ipython",
    "version": 3
   },
   "file_extension": ".py",
   "mimetype": "text/x-python",
   "name": "python",
   "nbconvert_exporter": "python",
   "pygments_lexer": "ipython3",
   "version": "3.7.15"
  },
  "orig_nbformat": 4,
  "vscode": {
   "interpreter": {
    "hash": "3e592e25811cfa779ae6784aec76f33d7863915ad54879e3d19307ec97da66b4"
   }
  }
 },
 "nbformat": 4,
 "nbformat_minor": 2
}
