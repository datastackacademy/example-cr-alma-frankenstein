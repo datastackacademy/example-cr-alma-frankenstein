{
 "cells": [
  {
   "cell_type": "code",
   "execution_count": 17,
   "metadata": {},
   "outputs": [],
   "source": [
    "from pyspark.sql import SparkSession\n",
    "import pandas as pd\n",
    "from pyspark.sql.functions import udf \n",
    "\n",
    "spark = SparkSession.builder.getOrCreate()\n",
    "\n",
    "\n"
   ]
  },
  {
   "cell_type": "code",
   "execution_count": 18,
   "metadata": {},
   "outputs": [],
   "source": [
    "spark_df = (spark.read.format(\"csv\").options(header=\"true\")\n",
    "    .load(\"../project-1/data/spotify_artists.csv\"))"
   ]
  },
  {
   "cell_type": "code",
   "execution_count": 19,
   "metadata": {},
   "outputs": [
    {
     "name": "stderr",
     "output_type": "stream",
     "text": [
      "22/06/22 10:24:25 WARN CSVHeaderChecker: CSV header does not conform to the schema.\n",
      " Header: , artist_popularity, followers, genres, id, name, track_id, track_name_prev, type\n",
      " Schema: _c0, artist_popularity, followers, genres, id, name, track_id, track_name_prev, type\n",
      "Expected: _c0 but found: \n",
      "CSV file: file:///home/frankenstein/repos/deb-graded-projects/ch7/graded-projects/project-1/data/spotify_artists.csv\n",
      "[Stage 10:=============================>                            (1 + 1) / 2]\r"
     ]
    },
    {
     "name": "stdout",
     "output_type": "stream",
     "text": [
      "+-------+------------------+------------------+-----------------+--------------------+--------------------+--------------------+--------------------+--------------------+--------------------+\n",
      "|summary|               _c0| artist_popularity|        followers|              genres|                  id|                name|            track_id|     track_name_prev|                type|\n",
      "+-------+------------------+------------------+-----------------+--------------------+--------------------+--------------------+--------------------+--------------------+--------------------+\n",
      "|  count|             56129|             56129|            56129|               56129|               56129|               56129|               56129|               56129|               56129|\n",
      "|   mean|           28064.0|  34.3874467743947|77960.41479449125|                null|                null|   863.8282051282052|                null|                null|                null|\n",
      "| stddev|16203.190966596672|16.917287377874096|594227.3097809411|                null|                null|  1346.2993424371468|                null|                null|                null|\n",
      "|    min|                 0|                 0|                0|\"[\"\"australian ch...| \"\"children's folk\"\"| \"\"children's mus...| 'australian rock']\"|14FcnjzhhpjLBg8Un...|0PursvcXaOfKR79Vx...|\n",
      "|    max|              9999|                98|             9999|                  []|7zyObVag8rUjItn71...|           홍크 Honk|The Okee Dokee Br...|            track_99|             track_9|\n",
      "+-------+------------------+------------------+-----------------+--------------------+--------------------+--------------------+--------------------+--------------------+--------------------+\n",
      "\n"
     ]
    },
    {
     "name": "stderr",
     "output_type": "stream",
     "text": [
      "                                                                                \r"
     ]
    }
   ],
   "source": [
    "spark_df.describe().show()"
   ]
  },
  {
   "cell_type": "code",
   "execution_count": 20,
   "metadata": {},
   "outputs": [
    {
     "name": "stdout",
     "output_type": "stream",
     "text": [
      "root\n",
      " |-- _c0: string (nullable = true)\n",
      " |-- artist_popularity: string (nullable = true)\n",
      " |-- followers: string (nullable = true)\n",
      " |-- genres: string (nullable = true)\n",
      " |-- id: string (nullable = true)\n",
      " |-- name: string (nullable = true)\n",
      " |-- track_id: string (nullable = true)\n",
      " |-- track_name_prev: string (nullable = true)\n",
      " |-- type: string (nullable = true)\n",
      "\n"
     ]
    }
   ],
   "source": [
    "spark_df.printSchema()"
   ]
  },
  {
   "cell_type": "code",
   "execution_count": 23,
   "metadata": {},
   "outputs": [
    {
     "name": "stdout",
     "output_type": "stream",
     "text": [
      "+--------------------+--------------------+\n",
      "|                name|              genres|\n",
      "+--------------------+--------------------+\n",
      "|       Juliano Cezar|['sertanejo', 'se...|\n",
      "|      The Grenadines|                  []|\n",
      "|             Gangway| ['danish pop rock']|\n",
      "|               FADES|['uk alternative ...|\n",
      "| Jean-Pierre Guignon|  ['french baroque']|\n",
      "|              Filhos|                  []|\n",
      "|                Eloq|                  []|\n",
      "|              Fravær|                  []|\n",
      "|       Camille Pépin|                  []|\n",
      "|Pepe Willberg & T...|['classic finnish...|\n",
      "+--------------------+--------------------+\n",
      "only showing top 10 rows\n",
      "\n"
     ]
    }
   ],
   "source": [
    "spark_df.select('name', 'genres').show(10)"
   ]
  },
  {
   "cell_type": "code",
   "execution_count": 26,
   "metadata": {},
   "outputs": [
    {
     "name": "stderr",
     "output_type": "stream",
     "text": [
      "22/06/22 10:57:35 WARN CSVHeaderChecker: CSV header does not conform to the schema.\n",
      " Header: , artist_popularity, followers, genres, id, name, track_id, track_name_prev, type\n",
      " Schema: _c0, artist_popularity, followers, genres, id, name, track_id, track_name_prev, type\n",
      "Expected: _c0 but found: \n",
      "CSV file: file:///home/frankenstein/repos/deb-graded-projects/ch7/graded-projects/project-1/data/spotify_artists.csv\n"
     ]
    },
    {
     "name": "stdout",
     "output_type": "stream",
     "text": [
      "+-----+-----------------+---------+--------------------+--------------------+--------------------+--------------------+---------------+------+\n",
      "|  _c0|artist_popularity|followers|              genres|                  id|                name|            track_id|track_name_prev|  type|\n",
      "+-----+-----------------+---------+--------------------+--------------------+--------------------+--------------------+---------------+------+\n",
      "|   40|               16|      695|                  []|4SK9OzAA0K00NVsXA...|       Queen Machine|6u3RWvO7ZIIdVci1N...|       track_56|artist|\n",
      "|  901|               43|    18224|           ['strut']|71WL5bNm5jPPpwpDc...|  Bob the Drag Queen|5IsdA6g8IFKGmC1xl...|        track_8|artist|\n",
      "| 1518|               30|     2297|           ['benga']|2FzYw9fn2ZtQ7sZma...|Muthoni Drummer Q...|4F0e4hx3bASeaqLqS...|       track_45|artist|\n",
      "| 2152|               22|     3244|['afropop', 'kwai...|5LFWp4p0pMURif2d7...|Mahlathini & The ...|6WbcheHRcJNMaDIkO...|       track_15|artist|\n",
      "| 4335|                8|       63|                  []|3DpP9gZWRs5dXEhLL...|            Queen Ka|3AM3J6mrm5cRr7GJv...|       track_39|artist|\n",
      "| 6966|               15|      406|['deep disco', 'v...|2wCibR1juwlLNht9Z...|      Queen Samantha|3QDayMeDsnn2Xegzd...|       track_46|artist|\n",
      "| 8056|                7|        9|                  []|3TwePrN8fhPuT29Hz...|        Ghetto Queen|66hIVciq4uVcuwzVr...|       track_36|artist|\n",
      "|11408|               21|      207|                  []|2ddlG5nlorHHTqIt5...|        Beauty Queen|24WguFKVYoGQIW2GO...|       track_33|artist|\n",
      "|13701|               49|    57014|['alternative roc...|6iy8nrBbtL57i4eUt...|The Good, the Bad...|2TfuGRkFZGU7NcYIr...|       track_17|artist|\n",
      "|15254|               27|      113|     ['bongo flava']|3xhctsFSYQFa4NCA4...|       Queen Darleen|3RMzzi2R7fFTIcaE8...|       track_15|artist|\n",
      "|16176|               27|     2452|['dublin indie', ...|7BDvurihyagH0uSPN...|       Pillow Queens|16YwIBrPUXQ5QycoW...|       track_29|artist|\n",
      "|18766|               14|      560|      ['riot grrrl']|713dOrzih7UQvUmok...|       Voodoo Queens|7a6Dhd4897ZBnlkA9...|        track_7|artist|\n",
      "|20823|               34|     1382|['mainland chines...|3Pf6bS1cRCdiMT5XR...|          Queena Cui|4U6UC7c96gkpiCVU5...|       track_53|artist|\n",
      "|21238|                9|      272|                  []|5F8oXHcyrEnqKxZ2r...| The Wrecking Queens|6T0MT2hMQ5mAeSVvc...|       track_22|artist|\n",
      "|22530|               34|     3915|                  []|0R7RTNI2p2LsrILHq...|         Queen Sessi|283Q6uu0wF6Dqocyq...|       track_53|artist|\n",
      "|23923|               16|      149|                  []|2e2wa17gsADrQfRvF...|           Nuz Queen|2ZGdFKxMhjoMbDZId...|       track_29|artist|\n",
      "|26417|               58|   269324|['album rock', 'g...|2OgUPVlWYgGBGMefZ...|         Queensrÿche|2I1erAt8UHtkXhPRl...|        track_9|artist|\n",
      "|28174|               70|   798509|['deep pop r&b', ...|3nViOFa3kZW8OMSNO...|         Queen Naija|3UhRsQVrELOATEiY7...|        track_4|artist|\n",
      "|31930|               16|       13|                  []|46yGPqT8k2maC9Qlx...|Queensland Orchestra|4jVr1g58LMaYrfhd8...|       track_58|artist|\n",
      "|32597|               59|    71576|['conscious hip h...|5m7wCUhYhBh7A3A3Y...|       Queen Latifah|1ybJ2itxCxPCPkcA9...|       track_11|artist|\n",
      "+-----+-----------------+---------+--------------------+--------------------+--------------------+--------------------+---------------+------+\n",
      "only showing top 20 rows\n",
      "\n"
     ]
    },
    {
     "name": "stderr",
     "output_type": "stream",
     "text": [
      "                                                                                \r"
     ]
    }
   ],
   "source": [
    "spark_df.where(\"name like '%Queen%'\").show()"
   ]
  },
  {
   "cell_type": "code",
   "execution_count": 28,
   "metadata": {},
   "outputs": [
    {
     "name": "stdout",
     "output_type": "stream",
     "text": [
      "+-----------------+-----+\n",
      "|artist_popularity|count|\n",
      "+-----------------+-----+\n",
      "|                7|  441|\n",
      "|               51|  838|\n",
      "|               15|  708|\n",
      "|               54|  704|\n",
      "|               11|  620|\n",
      "|               29| 1182|\n",
      "|               69|  152|\n",
      "|               42| 1151|\n",
      "|               73|   88|\n",
      "|               87|   12|\n",
      "|               64|  327|\n",
      "|                3|  355|\n",
      "|               30| 1192|\n",
      "|               34| 1234|\n",
      "|               59|  489|\n",
      "|                8|  517|\n",
      "|               22| 1013|\n",
      "|               28| 1079|\n",
      "|               85|   18|\n",
      "|               16|  801|\n",
      "+-----------------+-----+\n",
      "only showing top 20 rows\n",
      "\n"
     ]
    }
   ],
   "source": [
    "spark_df.groupBy('artist_popularity').count().show()"
   ]
  },
  {
   "cell_type": "code",
   "execution_count": 30,
   "metadata": {},
   "outputs": [
    {
     "name": "stderr",
     "output_type": "stream",
     "text": [
      "22/06/22 11:14:04 WARN CSVHeaderChecker: CSV header does not conform to the schema.\n",
      " Header: , artist_popularity, followers, genres, id, name, track_id, track_name_prev, type\n",
      " Schema: _c0, artist_popularity, followers, genres, id, name, track_id, track_name_prev, type\n",
      "Expected: _c0 but found: \n",
      "CSV file: file:///home/frankenstein/repos/deb-graded-projects/ch7/graded-projects/project-1/data/spotify_artists.csv\n",
      "                                                                                \r"
     ]
    }
   ],
   "source": [
    "spark_df.write.parquet('project.parquet')"
   ]
  }
 ],
 "metadata": {
  "interpreter": {
   "hash": "3bc5100b5695ba721fee0196a5a9b9f3da1d7622d45aab971b9ac343a39c5581"
  },
  "kernelspec": {
   "display_name": "Python 3.7.13 ('ch7crvenv': venv)",
   "language": "python",
   "name": "python3"
  },
  "language_info": {
   "codemirror_mode": {
    "name": "ipython",
    "version": 3
   },
   "file_extension": ".py",
   "mimetype": "text/x-python",
   "name": "python",
   "nbconvert_exporter": "python",
   "pygments_lexer": "ipython3",
   "version": "3.7.13"
  },
  "orig_nbformat": 4
 },
 "nbformat": 4,
 "nbformat_minor": 2
}
