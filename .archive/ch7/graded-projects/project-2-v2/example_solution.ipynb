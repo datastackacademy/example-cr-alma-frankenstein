{
 "cells": [
  {
   "cell_type": "markdown",
   "metadata": {},
   "source": [
    "Date,Open,High,Low,Close,Volume,Currency\n",
    "2000-01-03,122.25,124.0,116.1,116.5,6640,USD"
   ]
  },
  {
   "cell_type": "code",
   "execution_count": 23,
   "metadata": {},
   "outputs": [],
   "source": [
    "import pandas as pd\n",
    "from pyspark.sql import SparkSession\n",
    "import pyspark.sql.functions as sf      # sf = spark functions\n",
    "import pyspark.sql.types as st \n",
    "from pyspark.sql.functions import udf"
   ]
  },
  {
   "cell_type": "code",
   "execution_count": 11,
   "metadata": {},
   "outputs": [],
   "source": [
    "spark = SparkSession.builder.getOrCreate()"
   ]
  },
  {
   "cell_type": "code",
   "execution_count": 12,
   "metadata": {},
   "outputs": [],
   "source": [
    "data_file = \"./data/coffee.csv\""
   ]
  },
  {
   "cell_type": "code",
   "execution_count": 13,
   "metadata": {},
   "outputs": [],
   "source": [
    "# coffee_df = spark.read.csv(data_file, header=True)"
   ]
  },
  {
   "cell_type": "code",
   "execution_count": 14,
   "metadata": {},
   "outputs": [],
   "source": [
    "# coffee_df.printSchema()"
   ]
  },
  {
   "cell_type": "code",
   "execution_count": 15,
   "metadata": {},
   "outputs": [],
   "source": [
    "schema = \"Date string, Open float, High float,Low float, Close float, Volume float, Currency string\""
   ]
  },
  {
   "cell_type": "code",
   "execution_count": 16,
   "metadata": {},
   "outputs": [],
   "source": [
    "coffee_df = spark.read.csv(data_file, schema=schema, header=True, enforceSchema=True)"
   ]
  },
  {
   "cell_type": "code",
   "execution_count": null,
   "metadata": {},
   "outputs": [],
   "source": []
  },
  {
   "cell_type": "code",
   "execution_count": 17,
   "metadata": {},
   "outputs": [
    {
     "name": "stdout",
     "output_type": "stream",
     "text": [
      "root\n",
      " |-- Date: string (nullable = true)\n",
      " |-- Open: float (nullable = true)\n",
      " |-- High: float (nullable = true)\n",
      " |-- Low: float (nullable = true)\n",
      " |-- Close: float (nullable = true)\n",
      " |-- Volume: float (nullable = true)\n",
      " |-- Currency: string (nullable = true)\n",
      "\n"
     ]
    }
   ],
   "source": [
    "coffee_df.printSchema()"
   ]
  },
  {
   "cell_type": "code",
   "execution_count": 18,
   "metadata": {},
   "outputs": [
    {
     "data": {
      "text/plain": [
       "['Date', 'Open', 'High', 'Low', 'Close', 'Volume', 'Currency']"
      ]
     },
     "execution_count": 18,
     "metadata": {},
     "output_type": "execute_result"
    }
   ],
   "source": [
    "coffee_df.columns"
   ]
  },
  {
   "cell_type": "code",
   "execution_count": 19,
   "metadata": {},
   "outputs": [],
   "source": [
    "# Add a column to the DataFrame where the values are the difference between 'Open' and 'Close'.\n",
    "coffee_df = coffee_df.withColumn('open_to_close', (coffee_df.Open - coffee_df.Close))"
   ]
  },
  {
   "cell_type": "code",
   "execution_count": 20,
   "metadata": {},
   "outputs": [
    {
     "data": {
      "text/plain": [
       "['Date', 'Open', 'High', 'Low', 'Close', 'Volume', 'Currency', 'open_to_close']"
      ]
     },
     "execution_count": 20,
     "metadata": {},
     "output_type": "execute_result"
    }
   ],
   "source": [
    "coffee_df.columns"
   ]
  },
  {
   "cell_type": "code",
   "execution_count": 21,
   "metadata": {},
   "outputs": [
    {
     "name": "stdout",
     "output_type": "stream",
     "text": [
      "root\n",
      " |-- Date: string (nullable = true)\n",
      " |-- Open: float (nullable = true)\n",
      " |-- High: float (nullable = true)\n",
      " |-- Low: float (nullable = true)\n",
      " |-- Close: float (nullable = true)\n",
      " |-- Volume: float (nullable = true)\n",
      " |-- Currency: string (nullable = true)\n",
      " |-- open_to_close: float (nullable = true)\n",
      "\n"
     ]
    }
   ],
   "source": [
    "coffee_df.printSchema()"
   ]
  },
  {
   "cell_type": "code",
   "execution_count": 28,
   "metadata": {},
   "outputs": [],
   "source": [
    "def to_abs(diff: float):\n",
    "    return float(abs(diff))\n",
    "\n",
    "to_abs_udf = udf(to_abs)"
   ]
  },
  {
   "cell_type": "code",
   "execution_count": 29,
   "metadata": {},
   "outputs": [],
   "source": [
    "# Once you have a column for the difference between 'Open' and 'Close', add another column that contains the absolute values of the numbers in that column.\n",
    "coffee_df = coffee_df.withColumn('abs_open_to_close', (to_abs_udf(coffee_df.open_to_close)))"
   ]
  },
  {
   "cell_type": "code",
   "execution_count": 31,
   "metadata": {},
   "outputs": [
    {
     "name": "stdout",
     "output_type": "stream",
     "text": [
      "root\n",
      " |-- Date: string (nullable = true)\n",
      " |-- Open: float (nullable = true)\n",
      " |-- High: float (nullable = true)\n",
      " |-- Low: float (nullable = true)\n",
      " |-- Close: float (nullable = true)\n",
      " |-- Volume: float (nullable = true)\n",
      " |-- Currency: string (nullable = true)\n",
      " |-- open_to_close: float (nullable = true)\n",
      " |-- abs_open_to_close: string (nullable = true)\n",
      "\n"
     ]
    }
   ],
   "source": [
    "coffee_df.printSchema()"
   ]
  },
  {
   "cell_type": "code",
   "execution_count": 34,
   "metadata": {},
   "outputs": [
    {
     "name": "stderr",
     "output_type": "stream",
     "text": [
      "                                                                                \r"
     ]
    },
    {
     "name": "stdout",
     "output_type": "stream",
     "text": [
      "+-------+----------+------------------+------------------+------------------+------------------+-----------------+--------+-------------------+------------------+\n",
      "|summary|      Date|              Open|              High|               Low|             Close|           Volume|Currency|      open_to_close| abs_open_to_close|\n",
      "+-------+----------+------------------+------------------+------------------+------------------+-----------------+--------+-------------------+------------------+\n",
      "|  count|      5674|              5674|              5674|              5674|              5674|             5674|    5674|               5674|              5674|\n",
      "|   mean|      null| 126.0496775257701|127.60635527515646|124.58774245688728|125.99223296105295|8749.680472329926|    null|0.05744456471714454|1.7606027822995378|\n",
      "| stddev|      null|49.699819927093294| 50.26890009357301| 48.99939724363535|49.624084304058016|9593.583236499931|    null| 2.5976646412465607| 1.910731140670376|\n",
      "|    min|2000-01-03|              41.5|              42.0|              41.5|              41.5|              0.0|     USD|         -18.850006|               0.0|\n",
      "|    max|2022-05-20|             305.3|            306.25|             304.0|             304.9|          62045.0|     USD|          20.449997| 9.850006103515625|\n",
      "+-------+----------+------------------+------------------+------------------+------------------+-----------------+--------+-------------------+------------------+\n",
      "\n"
     ]
    }
   ],
   "source": [
    "coffee_df.describe().show()"
   ]
  },
  {
   "cell_type": "code",
   "execution_count": 32,
   "metadata": {},
   "outputs": [
    {
     "name": "stderr",
     "output_type": "stream",
     "text": [
      "                                                                                \r"
     ]
    },
    {
     "data": {
      "text/plain": [
       "[Row(Date='2000-01-03', Open=122.25, High=124.0, Low=116.0999984741211, Close=116.5, Volume=6640.0, Currency='USD', open_to_close=5.75, abs_open_to_close='5.75'),\n",
       " Row(Date='2000-01-04', Open=116.25, High=120.5, Low=115.75, Close=116.25, Volume=5492.0, Currency='USD', open_to_close=0.0, abs_open_to_close='0.0'),\n",
       " Row(Date='2000-01-05', Open=115.0, High=121.0, Low=115.0, Close=118.5999984741211, Volume=6165.0, Currency='USD', open_to_close=-3.5999984741210938, abs_open_to_close='3.5999984741210938'),\n",
       " Row(Date='2000-01-06', Open=119.0, High=121.4000015258789, Low=116.5, Close=116.8499984741211, Volume=5094.0, Currency='USD', open_to_close=2.1500015258789062, abs_open_to_close='2.1500015258789062'),\n",
       " Row(Date='2000-01-07', Open=117.25, High=117.75, Low=113.80000305175781, Close=114.1500015258789, Volume=6855.0, Currency='USD', open_to_close=3.0999984741210938, abs_open_to_close='3.0999984741210938'),\n",
       " Row(Date='2000-01-10', Open=123.5, High=126.0, Low=116.69999694824219, Close=117.55000305175781, Volume=7499.0, Currency='USD', open_to_close=5.9499969482421875, abs_open_to_close='5.9499969482421875'),\n",
       " Row(Date='2000-01-11', Open=115.5, High=118.25, Low=115.5, Close=117.80000305175781, Volume=3976.0, Currency='USD', open_to_close=-2.3000030517578125, abs_open_to_close='2.3000030517578125'),\n",
       " Row(Date='2000-01-12', Open=117.80000305175781, High=120.5, Low=116.9000015258789, Close=118.94999694824219, Volume=5184.0, Currency='USD', open_to_close=-1.149993896484375, abs_open_to_close='1.149993896484375'),\n",
       " Row(Date='2000-01-13', Open=119.25, High=120.0, Low=117.5, Close=118.55000305175781, Volume=3717.0, Currency='USD', open_to_close=0.6999969482421875, abs_open_to_close='0.6999969482421875'),\n",
       " Row(Date='2000-01-14', Open=117.75, High=120.25, Low=112.25, Close=112.55000305175781, Volume=10115.0, Currency='USD', open_to_close=5.1999969482421875, abs_open_to_close='5.1999969482421875'),\n",
       " Row(Date='2000-01-18', Open=111.75, High=118.25, Low=110.5999984741211, Close=115.75, Volume=7364.0, Currency='USD', open_to_close=-4.0, abs_open_to_close='4.0'),\n",
       " Row(Date='2000-01-19', Open=116.5, High=118.25, Low=114.75, Close=116.69999694824219, Volume=6626.0, Currency='USD', open_to_close=-0.1999969482421875, abs_open_to_close='0.1999969482421875'),\n",
       " Row(Date='2000-01-20', Open=118.25, High=118.80000305175781, Low=111.69999694824219, Close=112.0, Volume=8834.0, Currency='USD', open_to_close=6.25, abs_open_to_close='6.25'),\n",
       " Row(Date='2000-01-21', Open=112.0, High=113.5, Low=110.80000305175781, Close=111.19999694824219, Volume=5625.0, Currency='USD', open_to_close=0.8000030517578125, abs_open_to_close='0.8000030517578125'),\n",
       " Row(Date='2000-01-24', Open=110.94999694824219, High=114.4000015258789, Low=110.94999694824219, Close=111.9000015258789, Volume=5821.0, Currency='USD', open_to_close=-0.9500045776367188, abs_open_to_close='0.9500045776367188'),\n",
       " Row(Date='2000-01-25', Open=111.5999984741211, High=113.69999694824219, Low=111.5999984741211, Close=112.8499984741211, Volume=4014.0, Currency='USD', open_to_close=-1.25, abs_open_to_close='1.25'),\n",
       " Row(Date='2000-01-26', Open=112.5, High=115.30000305175781, Low=111.9000015258789, Close=115.1500015258789, Volume=5796.0, Currency='USD', open_to_close=-2.6500015258789062, abs_open_to_close='2.6500015258789062'),\n",
       " Row(Date='2000-01-27', Open=114.75, High=116.4000015258789, Low=112.80000305175781, Close=114.5999984741211, Volume=5477.0, Currency='USD', open_to_close=0.15000152587890625, abs_open_to_close='0.15000152587890625'),\n",
       " Row(Date='2000-01-28', Open=115.0999984741211, High=115.4000015258789, Low=113.69999694824219, Close=114.69999694824219, Volume=3334.0, Currency='USD', open_to_close=0.40000152587890625, abs_open_to_close='0.40000152587890625'),\n",
       " Row(Date='2000-01-31', Open=113.75, High=114.0, Low=110.5, Close=111.0999984741211, Volume=6465.0, Currency='USD', open_to_close=2.6500015258789062, abs_open_to_close='2.6500015258789062')]"
      ]
     },
     "execution_count": 32,
     "metadata": {},
     "output_type": "execute_result"
    }
   ],
   "source": [
    "coffee_df.head(20)"
   ]
  }
 ],
 "metadata": {
  "interpreter": {
   "hash": "3bc5100b5695ba721fee0196a5a9b9f3da1d7622d45aab971b9ac343a39c5581"
  },
  "kernelspec": {
   "display_name": "Python 3.7.13 ('ch7crvenv': venv)",
   "language": "python",
   "name": "python3"
  },
  "language_info": {
   "codemirror_mode": {
    "name": "ipython",
    "version": 3
   },
   "file_extension": ".py",
   "mimetype": "text/x-python",
   "name": "python",
   "nbconvert_exporter": "python",
   "pygments_lexer": "ipython3",
   "version": "3.7.13"
  },
  "orig_nbformat": 4
 },
 "nbformat": 4,
 "nbformat_minor": 2
}
